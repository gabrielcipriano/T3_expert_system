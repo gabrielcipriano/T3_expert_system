{
  "nbformat": 4,
  "nbformat_minor": 0,
  "metadata": {
    "language_info": {
      "codemirror_mode": {
        "name": "ipython",
        "version": 3
      },
      "file_extension": ".py",
      "mimetype": "text/x-python",
      "name": "python",
      "nbconvert_exporter": "python",
      "pygments_lexer": "ipython3",
      "version": "3.9.1"
    },
    "orig_nbformat": 2,
    "kernelspec": {
      "name": "python391jvsc74a57bd0569d6b7e9215e11aba41c6454007e5c1b78bad7df09dab765d8cf00362c40f03",
      "display_name": "Python 3.9.1 64-bit ('base': conda)"
    },
    "metadata": {
      "interpreter": {
        "hash": "aee8b7b246df8f9039afb4144a1f6fd8d2ca17a180786b69acc140d282b71a49"
      }
    },
    "colab": {
      "name": "Trab3_gabriel_Cipriano.ipynb",
      "provenance": []
    }
  },
  "cells": [
    {
      "cell_type": "markdown",
      "metadata": {
        "id": "xwBwDYf4k0Lm"
      },
      "source": [
        "### Instalando o Experta"
      ]
    },
    {
      "cell_type": "code",
      "metadata": {
        "colab": {
          "base_uri": "https://localhost:8080/"
        },
        "id": "3VYrKIdEk0Lu",
        "outputId": "063018b9-cc34-43ca-88a6-945554d584c0"
      },
      "source": [
        "!pip install experta"
      ],
      "execution_count": 1,
      "outputs": [
        {
          "output_type": "stream",
          "text": [
            "Collecting experta\n",
            "  Downloading https://files.pythonhosted.org/packages/03/5d/c06fad9dadbec34d95f548bca648ec0de2afd6f8eb2247194150ad38ee8f/experta-1.9.4-py3-none-any.whl\n",
            "Collecting frozendict==1.2\n",
            "  Downloading https://files.pythonhosted.org/packages/4e/55/a12ded2c426a4d2bee73f88304c9c08ebbdbadb82569ebdd6a0c007cfd08/frozendict-1.2.tar.gz\n",
            "Collecting schema==0.6.7\n",
            "  Downloading https://files.pythonhosted.org/packages/5d/42/32c059aa876eb16521a292e634d18f25408b2441862ff823f59af273d720/schema-0.6.7-py2.py3-none-any.whl\n",
            "Building wheels for collected packages: frozendict\n",
            "  Building wheel for frozendict (setup.py) ... \u001b[?25l\u001b[?25hdone\n",
            "  Created wheel for frozendict: filename=frozendict-1.2-cp37-none-any.whl size=3150 sha256=6b04e0883feabc9c142b9b6de74c284922c0418078bab3cfbeaafd247189e51f\n",
            "  Stored in directory: /root/.cache/pip/wheels/6c/6c/e9/534386165bd12cf1885582c75eb6d0ffcb321b65c23fe0f834\n",
            "Successfully built frozendict\n",
            "Installing collected packages: frozendict, schema, experta\n",
            "Successfully installed experta-1.9.4 frozendict-1.2 schema-0.6.7\n"
          ],
          "name": "stdout"
        }
      ]
    },
    {
      "cell_type": "markdown",
      "metadata": {
        "id": "HkfL4np1k0Lw"
      },
      "source": [
        "### Importando dependencias"
      ]
    },
    {
      "cell_type": "code",
      "metadata": {
        "id": "thQrskUok0Lw"
      },
      "source": [
        "from experta import *"
      ],
      "execution_count": 2,
      "outputs": []
    },
    {
      "cell_type": "markdown",
      "metadata": {
        "id": "jmV5NV96k0Lx"
      },
      "source": [
        "### Funções uteis"
      ]
    },
    {
      "cell_type": "code",
      "metadata": {
        "colab": {
          "base_uri": "https://localhost:8080/"
        },
        "id": "GAL0qgcHk0Lx",
        "outputId": "d5e0a743-b0df-4a65-ec86-45ef9b9e42cb"
      },
      "source": [
        "# Funçao auxiliar para receber inputs do teclado\n",
        "def ask(question, true_value=True, false_value=False):\n",
        "    while True:\n",
        "        answer = input(question + \"(S/N) \").upper()\n",
        "        if (answer == 'S'): return true_value\n",
        "        if (answer == 'N'): return false_value\n",
        "        print(\"Responda com 'S' para Sim ou 'N' para Não.\")\n",
        "\n",
        "def ask_feature(question, true_value=True, false_value=False):\n",
        "    return ask(\"O animal \" + question, true_value, false_value)\n",
        "\n",
        "# EXEMPLO\n",
        "print(ask_feature(\"amamenta?\", \"mamífero\", \"não é mamífero\"))"
      ],
      "execution_count": 4,
      "outputs": [
        {
          "output_type": "stream",
          "text": [
            "O animal amamenta?(S/N) G\n",
            "Responda com 'S' para Sim ou 'N' para Não.\n",
            "O animal amamenta?(S/N) S\n",
            "mamífero\n"
          ],
          "name": "stdout"
        }
      ]
    },
    {
      "cell_type": "code",
      "metadata": {
        "id": "ZkvcdFIKk0Ly"
      },
      "source": [
        "# Definindo tipos de fatos do dominio\n",
        "class Classe(Fact):\n",
        "    pass\n",
        "\n",
        "class Feature(Fact):\n",
        "    pass\n",
        "\n",
        "class Animal(Fact):\n",
        "    pass\n",
        "\n",
        "# Aliases de prioridade\n",
        "HIGHEST = 3\n",
        "HIGH = 2 \n",
        "MEDIUM = 1\n",
        "DEFAULT = 0\n",
        "LOWEST = -1"
      ],
      "execution_count": 5,
      "outputs": []
    },
    {
      "cell_type": "markdown",
      "metadata": {
        "id": "rRGseLWKk0Ly"
      },
      "source": [
        "## ENGINE QUE IDENTIFICA A CLASSE DE UM ANIMAL"
      ]
    },
    {
      "cell_type": "code",
      "metadata": {
        "id": "ewwKKDaEk0Lz"
      },
      "source": [
        "class IdentificaClasseAnimal(KnowledgeEngine):\n",
        "    # FEATURES PARA DEFINIR CLASSE\n",
        "\n",
        "    @Rule(NOT(Classe(W())))\n",
        "    def ask_amamenta(self):\n",
        "        self.declare(Feature(amamenta=ask_feature(\"é amamentado?\")))\n",
        "\n",
        "    @Rule(NOT(Classe(W())))\n",
        "    def ask_branqueas(self):\n",
        "        self.declare(Feature(branqueas=ask_feature(\"possui brânqueas (Guelras)?\")))\n",
        "    \n",
        "    @Rule(NOT(Classe(W())))\n",
        "    def ask_ovo_casca(self):\n",
        "        self.declare(Feature(ovo_casca=ask_feature(\"bota ovos com casca rígida?\")))\n",
        "    \n",
        "    @Rule(NOT(Classe(W())), salience=LOWEST)\n",
        "    def ask_duas_fases(self):\n",
        "        self.declare(Feature(duas_fases=ask_feature(\"passa o começo da vida na água, e depois vive na terra?\")))\n",
        "\n",
        "    @Rule(NOT(Classe(W())), salience=HIGH)\n",
        "    def ask_possui_penas(self):\n",
        "        self.declare(Feature(possui_penas=ask_feature(\"possui penas?\")))\n",
        "\n",
        "    # REGRAS QUE DEFINEM CLASSES\n",
        "\n",
        "    @Rule(Feature(amamenta=True), salience=HIGHEST)\n",
        "    def is_mamal(self):\n",
        "        self.declare(Classe('Mamífero'))\n",
        "\n",
        "    @Rule(Feature(branqueas=True), salience=HIGHEST)\n",
        "    def is_fish(self):\n",
        "        self.declare(Classe('Peixe'))\n",
        "    \n",
        "    @Rule(Feature(duas_fases=True), salience=HIGHEST)\n",
        "    def is_amphibian(self):\n",
        "        self.declare(Classe('Anfibio'))\n",
        "    \n",
        "    @Rule(Feature(possui_penas=True),salience=HIGHEST)\n",
        "    def is_aves(self):\n",
        "        self.declare(Classe(\"Ave\"))\n",
        "    \n",
        "    @Rule(AND(Feature(ovo_casca=True),Feature(possui_penas=False)),salience=HIGHEST)\n",
        "    def is_repitile(self):\n",
        "        self.declare(Classe(\"Réptil\"))\n",
        "\n",
        "    # FAZENDO MATCH COM A CLASSE DESCOBERTA\n",
        "    @Rule(Classe(MATCH.name))\n",
        "    def guess_classe(self, name):\n",
        "        print(\"O seu animal é um(a) %s\" % (name))"
      ],
      "execution_count": 6,
      "outputs": []
    },
    {
      "cell_type": "code",
      "metadata": {
        "colab": {
          "base_uri": "https://localhost:8080/"
        },
        "id": "OnDOBX7lk0L3",
        "outputId": "4f7118e8-09f1-4a04-afae-c94685f24263"
      },
      "source": [
        "# EXEMPLO ENGINE CLASSE ANIMAL:\n",
        "engine_classe = IdentificaClasseAnimal()\n",
        "engine_classe.reset()\n",
        "engine_classe.run()\n",
        "engine_classe.facts"
      ],
      "execution_count": 7,
      "outputs": [
        {
          "output_type": "stream",
          "text": [
            "O animal possui penas?(S/N) N\n",
            "O animal é amamentado?(S/N) N\n",
            "O animal possui brânqueas (Guelras)?(S/N) S\n",
            "O seu animal é um(a) Peixe\n"
          ],
          "name": "stdout"
        },
        {
          "output_type": "execute_result",
          "data": {
            "text/plain": [
              "FactList([(0, InitialFact()),\n",
              "          (1, Feature(possui_penas=False)),\n",
              "          (2, Feature(amamenta=False)),\n",
              "          (3, Feature(branqueas=True)),\n",
              "          (4, Classe('Peixe'))])"
            ]
          },
          "metadata": {
            "tags": []
          },
          "execution_count": 7
        }
      ]
    },
    {
      "cell_type": "markdown",
      "metadata": {
        "id": "CXYZahZPk0L4"
      },
      "source": [
        "# ENGINE QUE IDENTIFICA UM ANIMAL \n",
        "### (HERDANDO A ENGINE QUE DEFINE A CLASSE)"
      ]
    },
    {
      "cell_type": "code",
      "metadata": {
        "id": "DbDHDg2zk0L4"
      },
      "source": [
        "class IdentificaAnimal(IdentificaClasseAnimal):\n",
        "    # COLETANDO FEATURES PARA DEFINIR O ANIMAL:\n",
        "\n",
        "    @Rule(AND( OR(Classe(\"Ave\"), Classe(\"Réptil\"), Classe(\"Mamífero\")), \n",
        "               NOT(Animal(W())) ))\n",
        "    def ask_carnivoro(self):\n",
        "        self.declare(Feature(carnivoro=ask_feature(\"é carnívoro?\")))\n",
        "\n",
        "    @Rule(AND( OR(Classe(\"Ave\"), Classe(\"Réptil\"), Classe(\"Mamífero\")),\n",
        "               NOT(Animal(W()))), salience=MEDIUM)\n",
        "    def ask_aquatico_ou_semi(self):\n",
        "        self.declare(Feature(aquatico_ou_semi=ask_feature(\"é aquatico ou precisa de viver perto da água?\")))\n",
        "\n",
        "    @Rule(AND( OR(Classe(\"Ave\"), Classe(\"Mamífero\")),\n",
        "               NOT(Animal(W()))), salience=MEDIUM)\n",
        "    def ask_voa(self):\n",
        "        self.declare(Feature(voa=ask_feature(\"é capaz de voar?\")))\n",
        "\n",
        "    @Rule(AND( Classe(\"Mamífero\"), \n",
        "               NOT(Animal(W())) ))\n",
        "    def ask_selvagem(self):\n",
        "        self.declare(Feature(selvagem=ask_feature(\"é selvagem?\")))\n",
        "\n",
        "    @Rule(AND( Classe(\"Peixe\"), \n",
        "               NOT(Animal(W())) ))\n",
        "    def ask_cartilaginoso(self):\n",
        "        self.declare(Feature(cartilaginoso=ask_feature(\"possui esqueleto cartilaginoso?\")))\n",
        "    \n",
        "    @Rule(AND( Classe(\"Peixe\"), \n",
        "               NOT(Animal(W())) ))\n",
        "    def ask_fusiforme(self):\n",
        "        self.declare(Feature(fusiforme=ask_feature(\"tem forma alongada (fusiforme)?\")))\n",
        "\n",
        "    @Rule(AND( Classe(\"Anfibio\"), \n",
        "               NOT(Animal(W())) ))\n",
        "    def ask_rabo(self):\n",
        "        self.declare(Feature(rabo=ask_feature(\"possui rabo?\")))\n",
        "\n",
        "    # REGRAS PARA DIFERENCIAR RÉPTEIS\n",
        "\n",
        "    @Rule(AND(Classe(\"Réptil\"), Feature(carnivoro=True), Feature(aquatico_ou_semi=True)), salience=HIGHEST)\n",
        "    def is_jacare(self):\n",
        "        self.declare(Animal(\"Jacaré\"))\n",
        "    \n",
        "    @Rule(AND(Classe(\"Réptil\"), Feature(carnivoro=True), Feature(aquatico_ou_semi=False)), salience=HIGHEST)\n",
        "    def is_cobra(self):\n",
        "        self.declare(Animal(\"Cobra\"))\n",
        "    \n",
        "    @Rule(AND(Classe(\"Réptil\"), Feature(carnivoro=False), Feature(aquatico_ou_semi=True)), salience=HIGHEST)\n",
        "    def is_tartaruga(self):\n",
        "        self.declare(Animal(\"Tartaruga\"))\n",
        "\n",
        "    @Rule(AND(Classe(\"Réptil\"), Feature(carnivoro=False), Feature(aquatico_ou_semi=False)), salience=HIGHEST)\n",
        "    def is_camaleao(self):\n",
        "        self.declare(Animal(\"Camaleão\"))\n",
        "\n",
        "    # REGRAS PARA DIFERENCIAR PEIXES\n",
        "\n",
        "    @Rule(AND(Classe(\"Peixe\"), Feature(cartilaginoso=True), Feature(fusiforme=True)), salience=HIGHEST)\n",
        "    def is_tubarao(self):\n",
        "        self.declare(Animal(\"Tubarão\"))\n",
        "    \n",
        "    @Rule(AND(Classe(\"Peixe\"), Feature(cartilaginoso=True), Feature(fusiforme=False)), salience=HIGHEST)\n",
        "    def is_arraia(self):\n",
        "        self.declare(Animal(\"Arraia\"))\n",
        "\n",
        "    @Rule(AND(Classe(\"Peixe\"), Feature(cartilaginoso=False), Feature(fusiforme=True)), salience=HIGHEST)\n",
        "    def is_atum(self):\n",
        "        self.declare(Animal(\"Atum\"))\n",
        "    \n",
        "    @Rule(AND(Classe(\"Peixe\"), Feature(cartilaginoso=False), Feature(fusiforme=False)), salience=HIGHEST)\n",
        "    def is_baiacu(self):\n",
        "        self.declare(Animal(\"Baiacu\"))\n",
        "\n",
        "    # REGRAS PARA DIFERENCIAR AVES\n",
        "\n",
        "    @Rule(AND(Classe(\"Ave\"), Feature(voa=False)), salience=HIGHEST)\n",
        "    def is_pinguim(self):\n",
        "        self.declare(Animal(\"Pinguim\"))\n",
        "    \n",
        "    @Rule(AND(Classe(\"Ave\"), Feature(carnivoro=False)), salience=HIGHEST)\n",
        "    def is_beija_flor(self):\n",
        "        self.declare(Animal(\"Beija-flor\"))\n",
        "\n",
        "    @Rule(AND(Classe(\"Ave\"), Feature(aquatico_ou_semi=True), Feature(voa=True)), salience=HIGHEST)\n",
        "    def is_gaivota(self):\n",
        "        self.declare(Animal(\"Gaivota\"))\n",
        "\n",
        "    @Rule(AND(Classe(\"Ave\"), Feature(aquatico_ou_semi=False), Feature(carnivoro=True)), salience=HIGHEST)\n",
        "    def is_gaviao(self):\n",
        "        self.declare(Animal(\"Gavião\"))\n",
        "\n",
        "    # REGRAS PARA DIFERENCIAR MAMIFEROS\n",
        "\n",
        "    @Rule(AND(Classe(\"Mamífero\"), Feature(voa=True)), salience=HIGHEST)\n",
        "    def is_morcego(self):\n",
        "        self.declare(Animal(\"Morcego\"))\n",
        "    \n",
        "    @Rule(AND(Classe(\"Mamífero\"), Feature(aquatico_ou_semi=True)), salience=HIGHEST)\n",
        "    def is_baleia(self):\n",
        "        self.declare(Animal(\"Baleia\"))\n",
        "\n",
        "    @Rule(AND(Classe(\"Mamífero\"), Feature(selvagem=False), Feature(carnivoro=False)), salience=HIGHEST)\n",
        "    def is_humano(self):\n",
        "        self.declare(Animal(\"Humano\"))\n",
        "    \n",
        "    @Rule(AND(Classe(\"Mamífero\"), Feature(selvagem=False), Feature(carnivoro=True)), salience=HIGHEST)\n",
        "    def is_cachorro(self):\n",
        "        self.declare(Animal(\"Cachorro\"))\n",
        "\n",
        "    @Rule(AND(Classe(\"Mamífero\"), \n",
        "            Feature(selvagem=True), \n",
        "            Feature(carnivoro=True)), \n",
        "        salience=HIGHEST)\n",
        "    def is_urso(self):\n",
        "        self.declare(Animal(\"Urso\"))\n",
        "\n",
        "    # REGRAS PARA DIFERENCIAR ANFIBIOS\n",
        "\n",
        "    @Rule(AND(Classe('Anfíbio'), Feature(rabo=True)), salience=HIGHEST)\n",
        "    def is_salamandra(self):\n",
        "        self.declare(Animal('Salamandra'))\n",
        "\n",
        "    @Rule(AND(Classe('Anfíbio'), Feature(rabo=False)), salience=HIGHEST)\n",
        "    def is_sapo(self):\n",
        "        self.declare(Animal('Sapo'))\n",
        "\n",
        "\n",
        "    # FAZENDO MATCH COM O ANIMAL DESCOBERTO\n",
        "    @Rule(Animal(MATCH.name))\n",
        "    def guess_animal(self, name):\n",
        "        print(\"O seu animal é um(a) %s\" % (name))\n",
        "\n",
        "    # Sobrescrevendo guess_classe() para não printar a classe\n",
        "    def guess_classe(self):\n",
        "        pass"
      ],
      "execution_count": 8,
      "outputs": []
    },
    {
      "cell_type": "markdown",
      "metadata": {
        "id": "8qHJ4oNZk0L6"
      },
      "source": [
        "# MAIN LOOP: IDENTIFICAR ANIMAIS"
      ]
    },
    {
      "cell_type": "code",
      "metadata": {
        "colab": {
          "base_uri": "https://localhost:8080/"
        },
        "id": "pNLdZNfBk0L6",
        "outputId": "053eac8d-ca4c-4c0b-c57f-04b53030eef9"
      },
      "source": [
        "engine = IdentificaAnimal()\n",
        "run = ask(\"Olá! Vamos identificar um animal?\")\n",
        "while(run):\n",
        "    engine.reset()\n",
        "    engine.run()\n",
        "    run = ask(\"Deseja identificar outro animal?\")"
      ],
      "execution_count": 9,
      "outputs": [
        {
          "output_type": "stream",
          "text": [
            "Olá! Vamos identificar um animal?(S/N) S\n",
            "O animal possui penas?(S/N) N\n",
            "O animal é amamentado?(S/N) N\n",
            "O animal possui brânqueas (Guelras)?(S/N) N\n",
            "O animal bota ovos com casca rígida?(S/N) S\n",
            "O animal é aquatico ou precisa de viver perto da água?(S/N) S\n",
            "O animal é carnívoro?(S/N) N\n",
            "O seu animal é um(a) Tartaruga\n",
            "Deseja identificar outro animal?(S/N) N\n"
          ],
          "name": "stdout"
        }
      ]
    },
    {
      "cell_type": "markdown",
      "metadata": {
        "id": "KK8Wx0qMk0L7"
      },
      "source": [
        "### FATOS DA ULTIMA EXECUÇÃO:"
      ]
    },
    {
      "cell_type": "code",
      "metadata": {
        "colab": {
          "base_uri": "https://localhost:8080/"
        },
        "id": "zGC-f7E1k0L7",
        "outputId": "52f3d551-f08c-4ba5-a7cd-a12071bd19ef"
      },
      "source": [
        "engine.facts"
      ],
      "execution_count": 10,
      "outputs": [
        {
          "output_type": "execute_result",
          "data": {
            "text/plain": [
              "FactList([(0, InitialFact()),\n",
              "          (1, Feature(possui_penas=False)),\n",
              "          (2, Feature(amamenta=False)),\n",
              "          (3, Feature(branqueas=False)),\n",
              "          (4, Feature(ovo_casca=True)),\n",
              "          (5, Classe('Réptil')),\n",
              "          (6, Feature(aquatico_ou_semi=True)),\n",
              "          (7, Feature(carnivoro=False)),\n",
              "          (8, Animal('Tartaruga'))])"
            ]
          },
          "metadata": {
            "tags": []
          },
          "execution_count": 10
        }
      ]
    },
    {
      "cell_type": "markdown",
      "metadata": {
        "id": "5ng-EHfCk0L7"
      },
      "source": [
        "## Herdando a engine IdentificaAnimal somente para demonstrar a inclusão de um leão\n",
        "#### Das features definidas, urso é o animal que tem caracteristicas idênticas à de um leão, necessitando apenas definir uma nova feature para diferencia-los."
      ]
    },
    {
      "cell_type": "code",
      "metadata": {
        "id": "vUHQ68wSk0L8"
      },
      "source": [
        "class IdentificaAnimalComLeao(IdentificaAnimal):\n",
        "    # Nova caracteristica: hiberna.\n",
        "    @Rule(AND( Classe(\"Mamífero\"), \n",
        "               NOT(Animal(W())) ))\n",
        "    def ask_hiberna(self):\n",
        "        self.declare(Feature(hiberna=ask_feature(\"hiberna (geralmente no inverno)?\")))\n",
        "\n",
        "    # Leão tem as características parecidas com a de um urso, mas não hiberna.\n",
        "    @Rule(AND(Classe(\"Mamífero\"), \n",
        "        Feature(selvagem=True), \n",
        "        Feature(carnivoro=True), \n",
        "        Feature(hiberna=False)), # É A MESMA REGRA QUE O URSO TINHA, COM APENAS ESSA LINHA A MAIS\n",
        "    salience=HIGHEST)\n",
        "    def is_leao(self):\n",
        "        self.declare(Animal(\"Leão\"))\n",
        "\n",
        "    # SOBRESCREVE is_urso() ADICIONANDO A FEATURE QUE DIFERENCIA ELE DO LEÃO\n",
        "    # Urso é o único animal que hiberna da base de conhecimento até então.\n",
        "    @Rule(AND(Classe(\"Mamífero\"), \n",
        "            Feature(hiberna=True)), \n",
        "        salience=HIGHEST)\n",
        "    def is_urso(self):\n",
        "        self.declare(Animal(\"Urso\"))\n",
        "\n"
      ],
      "execution_count": 11,
      "outputs": []
    },
    {
      "cell_type": "code",
      "metadata": {
        "colab": {
          "base_uri": "https://localhost:8080/"
        },
        "id": "z8CwXfnPk0L8",
        "outputId": "d9c59dd1-ef88-4967-a4fc-61ca2969cece"
      },
      "source": [
        "# EXEMPLO COM LEÃO:\n",
        "engine = IdentificaAnimalComLeao()\n",
        "engine.reset()\n",
        "engine.run()"
      ],
      "execution_count": 12,
      "outputs": [
        {
          "output_type": "stream",
          "text": [
            "O animal possui penas?(S/N) N\n",
            "O animal é amamentado?(S/N) S\n",
            "O animal é capaz de voar?(S/N) N\n",
            "O animal é aquatico ou precisa de viver perto da água?(S/N) N\n",
            "O animal é selvagem?(S/N) S\n",
            "O animal é carnívoro?(S/N) S\n",
            "O animal hiberna (geralmente no inverno)?(S/N) S\n",
            "O seu animal é um(a) Urso\n"
          ],
          "name": "stdout"
        }
      ]
    }
  ]
}